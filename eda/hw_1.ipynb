{
 "cells": [
  {
   "cell_type": "code",
   "id": "initial_id",
   "metadata": {
    "collapsed": true,
    "ExecuteTime": {
     "end_time": "2025-01-25T19:17:47.428192Z",
     "start_time": "2025-01-25T19:17:47.418689Z"
    }
   },
   "source": "print(\"Om Namaha Shivaya\")",
   "outputs": [
    {
     "name": "stdout",
     "output_type": "stream",
     "text": [
      "Om Namaha Shivaya\n"
     ]
    }
   ],
   "execution_count": 1
  },
  {
   "metadata": {
    "ExecuteTime": {
     "end_time": "2025-01-25T19:18:00.070927Z",
     "start_time": "2025-01-25T19:18:00.064673Z"
    }
   },
   "cell_type": "code",
   "source": "print(\"Om Nagarjunaya Namaha\")",
   "id": "ceef3f3e5f31f13e",
   "outputs": [
    {
     "name": "stdout",
     "output_type": "stream",
     "text": [
      "Om Nagarjunaya Namaha\n"
     ]
    }
   ],
   "execution_count": 2
  },
  {
   "metadata": {
    "ExecuteTime": {
     "end_time": "2025-01-25T19:18:14.590625Z",
     "start_time": "2025-01-25T19:18:14.574922Z"
    }
   },
   "cell_type": "code",
   "source": "print(\"Om Ranasaini Mata Namaha\")",
   "id": "14e57069b97e5127",
   "outputs": [
    {
     "name": "stdout",
     "output_type": "stream",
     "text": [
      "Om Ranasaini Mata Namaha\n"
     ]
    }
   ],
   "execution_count": 3
  },
  {
   "metadata": {
    "ExecuteTime": {
     "end_time": "2025-01-25T19:18:31.166520Z",
     "start_time": "2025-01-25T19:18:31.150866Z"
    }
   },
   "cell_type": "code",
   "source": "print(\"Om Bamun Bamuni aama Namaha \")",
   "id": "f8ed9b7345ff9986",
   "outputs": [
    {
     "name": "stdout",
     "output_type": "stream",
     "text": [
      "Om Bamun Bamuni aama Namaha \n"
     ]
    }
   ],
   "execution_count": 4
  },
  {
   "metadata": {
    "ExecuteTime": {
     "end_time": "2025-01-25T19:18:42.463329Z",
     "start_time": "2025-01-25T19:18:42.447691Z"
    }
   },
   "cell_type": "code",
   "source": "print(\"Om Shree Ganeshaya Namaha\")",
   "id": "37aa64c491999d5",
   "outputs": [
    {
     "name": "stdout",
     "output_type": "stream",
     "text": [
      "Om Shree Ganeshaya Namaha\n"
     ]
    }
   ],
   "execution_count": 5
  },
  {
   "metadata": {
    "ExecuteTime": {
     "end_time": "2025-01-25T19:36:55.340110Z",
     "start_time": "2025-01-25T19:36:54.884525Z"
    }
   },
   "cell_type": "code",
   "source": [
    "import numpy as np\n",
    "import cmocean"
   ],
   "id": "3108f7747331c79f",
   "outputs": [],
   "execution_count": 2
  },
  {
   "metadata": {},
   "cell_type": "code",
   "outputs": [],
   "execution_count": null,
   "source": "",
   "id": "1db49ec07b30fec0"
  }
 ],
 "metadata": {
  "kernelspec": {
   "display_name": "Python (IMGS_IMGS_689_Graduate_Special_Topics)",
   "language": "python",
   "name": "imgs_imgs_689_graduate_special_topics"
  },
  "language_info": {
   "codemirror_mode": {
    "name": "ipython",
    "version": 2
   },
   "file_extension": ".py",
   "mimetype": "text/x-python",
   "name": "python",
   "nbconvert_exporter": "python",
   "pygments_lexer": "ipython2",
   "version": "2.7.6"
  }
 },
 "nbformat": 4,
 "nbformat_minor": 5
}
